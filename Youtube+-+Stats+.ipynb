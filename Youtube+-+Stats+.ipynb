{
 "cells": [
  {
   "cell_type": "markdown",
   "id": "222eecbd",
   "metadata": {},
   "source": [
    "![cover_images](https://camo.githubusercontent.com/3492e111812ac08200d4acd9a0dce36ff18e22be558865d26aae570f4348996c/68747470733a2f2f6a6f736570686d75636972616578636c7573697665732e636f6d2f77702d636f6e74656e742f75706c6f6164732f323031392f30382f596f75547562652d446174612d4150492d4f766572766965772e6a7067)"
   ]
  },
  {
   "cell_type": "code",
   "execution_count": 1,
   "id": "49cdf648",
   "metadata": {},
   "outputs": [],
   "source": [
    "import pandas as pd\n",
    "import time\n",
    "import requests\n",
    "import json\n",
    "import random\n",
    "import time\n",
    "from datetime import datetime\n",
    "from millify import millify\n",
    "from tqdm import tqdm\n",
    "import config"
   ]
  },
  {
   "cell_type": "code",
   "execution_count": 2,
   "id": "8d50c6af",
   "metadata": {},
   "outputs": [],
   "source": [
    "api_key = config.API_KEY"
   ]
  },
  {
   "cell_type": "markdown",
   "id": "deadd212",
   "metadata": {},
   "source": [
    "# Youtube Channel Stats\n",
    "\n",
    "[youtube_url](https://developers.google.com/youtube/v3/docs/channels?hl=es)"
   ]
  },
  {
   "cell_type": "code",
   "execution_count": 3,
   "id": "7ca6026d",
   "metadata": {},
   "outputs": [],
   "source": [
    "# Forma de obtener la url con el id del canal; se va al canal de youtube se inspecciona el elemento y se copia el id del canal con los siguientes comenados:\n",
    "# clikk derecho en el canal y luego en \"inspeccionar\" >> control+f >> escribir twitter:url >> y se copia el elemento.\n",
    "# <meta name=\"twitter:url\" content=\"https://www.youtube.com/channel/UCLXRGxAzeaLDGaOphqapzmg\">\n",
    "# el id del canal es UCLXRGxAzeaLDGaOphqapzmg"
   ]
  },
  {
   "cell_type": "code",
   "execution_count": 4,
   "id": "fee64143",
   "metadata": {},
   "outputs": [],
   "source": [
    "url = \"https://www.youtube.com/channel/UCLXRGxAzeaLDGaOphqapzmg\""
   ]
  },
  {
   "cell_type": "code",
   "execution_count": 5,
   "id": "365b0077",
   "metadata": {},
   "outputs": [
    {
     "data": {
      "text/plain": [
       "{'kind': 'youtube#channelListResponse',\n",
       " 'etag': 'utfU_PfJ376AE7SDpfpb4OdszYo',\n",
       " 'pageInfo': {'totalResults': 1, 'resultsPerPage': 5},\n",
       " 'items': [{'kind': 'youtube#channel',\n",
       "   'etag': '_-VpFWeM2KoRJEMAx-m_5YavUyY',\n",
       "   'id': 'UCLXRGxAzeaLDGaOphqapzmg',\n",
       "   'statistics': {'viewCount': '100203063',\n",
       "    'subscriberCount': '730000',\n",
       "    'hiddenSubscriberCount': False,\n",
       "    'videoCount': '3393'}}]}"
      ]
     },
     "execution_count": 5,
     "metadata": {},
     "output_type": "execute_result"
    }
   ],
   "source": [
    "CHANNEL_ID = 'UCLXRGxAzeaLDGaOphqapzmg'\n",
    "\n",
    "url_channel_stats = 'https://youtube.googleapis.com/youtube/v3/channels?part=statistics&id='+CHANNEL_ID+'&key='+api_key\n",
    "channel_stats = requests.get(url_channel_stats).json()\n",
    "channel_stats"
   ]
  },
  {
   "cell_type": "code",
   "execution_count": 6,
   "id": "2208d7aa",
   "metadata": {},
   "outputs": [],
   "source": [
    "\n",
    "statistics = channel_stats['items'][0]['statistics']"
   ]
  },
  {
   "cell_type": "code",
   "execution_count": 7,
   "id": "a93c8feb",
   "metadata": {},
   "outputs": [
    {
     "data": {
      "text/plain": [
       "{'viewCount': '100203063',\n",
       " 'subscriberCount': '730000',\n",
       " 'hiddenSubscriberCount': False,\n",
       " 'videoCount': '3393'}"
      ]
     },
     "execution_count": 7,
     "metadata": {},
     "output_type": "execute_result"
    }
   ],
   "source": [
    "statistics"
   ]
  },
  {
   "cell_type": "code",
   "execution_count": 8,
   "id": "f3d291ad",
   "metadata": {},
   "outputs": [
    {
     "data": {
      "text/plain": [
       "{'Created_at': '2025-04-05',\n",
       " 'Total_Views': 100203063,\n",
       " 'Suscribers': 730000,\n",
       " 'Video_count': 3393}"
      ]
     },
     "execution_count": 8,
     "metadata": {},
     "output_type": "execute_result"
    }
   ],
   "source": [
    "channel_stats = channel_stats['items'][0]['statistics']\n",
    "date = pd.to_datetime('today').strftime(\"%Y-%m-%d\")\n",
    "\n",
    "data_channel = {\n",
    "    \n",
    "    'Created_at':date,\n",
    "    'Total_Views':int(float(channel_stats['viewCount'])),\n",
    "    'Suscribers':int(float(channel_stats['subscriberCount'])),\n",
    "    'Video_count':int(float(channel_stats['videoCount'])),\n",
    "    \n",
    "}\n",
    "\n",
    "data_channel"
   ]
  },
  {
   "cell_type": "code",
   "execution_count": 9,
   "id": "8e2082ff",
   "metadata": {},
   "outputs": [
    {
     "data": {
      "text/plain": [
       "730000"
      ]
     },
     "execution_count": 9,
     "metadata": {},
     "output_type": "execute_result"
    }
   ],
   "source": [
    "data_channel['Suscribers']"
   ]
  },
  {
   "cell_type": "markdown",
   "id": "1dfa2fd7",
   "metadata": {},
   "source": [
    "# Funtions "
   ]
  },
  {
   "cell_type": "code",
   "execution_count": 10,
   "id": "b4f03986",
   "metadata": {},
   "outputs": [],
   "source": [
    "def get_stats(api_key,channel_id):\n",
    "    \n",
    "    url_channel_stats = 'https://youtube.googleapis.com/youtube/v3/channels?part=statistics&id='+channel_id+'&key='+api_key\n",
    "    channel_stats = requests.get(url_channel_stats).json()\n",
    "    \n",
    "    \n",
    "    channel_stats = channel_stats['items'][0]['statistics']\n",
    "    date = pd.to_datetime('today').strftime(\"%Y-%m-%d\")\n",
    "\n",
    "    data_channel = {\n",
    "\n",
    "        'Created_at':date,\n",
    "        'Total_Views':int(float(channel_stats['viewCount'])),\n",
    "        'Suscribers':int(float(channel_stats['subscriberCount'])),\n",
    "        'Video_count':int(float(channel_stats['videoCount'])),\n",
    "\n",
    "    }\n",
    "    \n",
    "    return data_channel"
   ]
  },
  {
   "cell_type": "code",
   "execution_count": 11,
   "id": "ad42da31",
   "metadata": {},
   "outputs": [
    {
     "data": {
      "text/plain": [
       "{'Created_at': '2025-04-05',\n",
       " 'Total_Views': 100203063,\n",
       " 'Suscribers': 730000,\n",
       " 'Video_count': 3393}"
      ]
     },
     "execution_count": 11,
     "metadata": {},
     "output_type": "execute_result"
    }
   ],
   "source": [
    "get_stats(api_key,CHANNEL_ID)"
   ]
  },
  {
   "cell_type": "markdown",
   "id": "097f9123",
   "metadata": {},
   "source": [
    "# Channels to analize"
   ]
  },
  {
   "cell_type": "code",
   "execution_count": 12,
   "id": "29d2cf21",
   "metadata": {},
   "outputs": [],
   "source": [
    "channels_name  =  ['Marciaylanube','TodoCode','PeladoNerd',\n",
    "                   'Codigofacilito', 'Platzi', 'EDteam',\n",
    "                   'Soy Dalto', 'midudev', 'freeCodeCamp',\n",
    "                   'Valen Werle']\n",
    "channels_id  =  ['UCWYUbW_Lw5EQC0WybxInObA','UCz0EXCSvMwYKruljsZjCOzw',\n",
    "                 'UCrBzBOMcUVV8ryyAU_c6P5g','UCLXRGxAzeaLDGaOphqapzmg',\n",
    "                 'UC55-mxUj5Nj3niXFReG44OQ', 'UCP15FVAA2UL-QOcGhy7-ezA',\n",
    "                 'UCtoo4_P6ilCj7jwa4FmA5lQ','UC8LeXCWOalN8SxlrPcG-PaQ',\n",
    "                 'UC8butISFwT-Wl7EV0hUK0BQ', 'UCyurPWRyQdR3S0OgPIa8MPA']"
   ]
  },
  {
   "cell_type": "code",
   "execution_count": 13,
   "id": "b79a68b2",
   "metadata": {},
   "outputs": [],
   "source": [
    "channels = {\n",
    "    'Channel_name':channels_name,\n",
    "    'Channel_id':channels_id}\n",
    "\n",
    "df_channels = pd.DataFrame(channels)"
   ]
  },
  {
   "cell_type": "code",
   "execution_count": 14,
   "id": "41ea5b20",
   "metadata": {},
   "outputs": [
    {
     "data": {
      "text/html": [
       "<div>\n",
       "<style scoped>\n",
       "    .dataframe tbody tr th:only-of-type {\n",
       "        vertical-align: middle;\n",
       "    }\n",
       "\n",
       "    .dataframe tbody tr th {\n",
       "        vertical-align: top;\n",
       "    }\n",
       "\n",
       "    .dataframe thead th {\n",
       "        text-align: right;\n",
       "    }\n",
       "</style>\n",
       "<table border=\"1\" class=\"dataframe\">\n",
       "  <thead>\n",
       "    <tr style=\"text-align: right;\">\n",
       "      <th></th>\n",
       "      <th>Channel_name</th>\n",
       "      <th>Channel_id</th>\n",
       "    </tr>\n",
       "  </thead>\n",
       "  <tbody>\n",
       "    <tr>\n",
       "      <th>0</th>\n",
       "      <td>Marciaylanube</td>\n",
       "      <td>UCWYUbW_Lw5EQC0WybxInObA</td>\n",
       "    </tr>\n",
       "    <tr>\n",
       "      <th>1</th>\n",
       "      <td>TodoCode</td>\n",
       "      <td>UCz0EXCSvMwYKruljsZjCOzw</td>\n",
       "    </tr>\n",
       "    <tr>\n",
       "      <th>2</th>\n",
       "      <td>PeladoNerd</td>\n",
       "      <td>UCrBzBOMcUVV8ryyAU_c6P5g</td>\n",
       "    </tr>\n",
       "    <tr>\n",
       "      <th>3</th>\n",
       "      <td>Codigofacilito</td>\n",
       "      <td>UCLXRGxAzeaLDGaOphqapzmg</td>\n",
       "    </tr>\n",
       "    <tr>\n",
       "      <th>4</th>\n",
       "      <td>Platzi</td>\n",
       "      <td>UC55-mxUj5Nj3niXFReG44OQ</td>\n",
       "    </tr>\n",
       "    <tr>\n",
       "      <th>5</th>\n",
       "      <td>EDteam</td>\n",
       "      <td>UCP15FVAA2UL-QOcGhy7-ezA</td>\n",
       "    </tr>\n",
       "    <tr>\n",
       "      <th>6</th>\n",
       "      <td>Soy Dalto</td>\n",
       "      <td>UCtoo4_P6ilCj7jwa4FmA5lQ</td>\n",
       "    </tr>\n",
       "    <tr>\n",
       "      <th>7</th>\n",
       "      <td>midudev</td>\n",
       "      <td>UC8LeXCWOalN8SxlrPcG-PaQ</td>\n",
       "    </tr>\n",
       "    <tr>\n",
       "      <th>8</th>\n",
       "      <td>freeCodeCamp</td>\n",
       "      <td>UC8butISFwT-Wl7EV0hUK0BQ</td>\n",
       "    </tr>\n",
       "    <tr>\n",
       "      <th>9</th>\n",
       "      <td>Valen Werle</td>\n",
       "      <td>UCyurPWRyQdR3S0OgPIa8MPA</td>\n",
       "    </tr>\n",
       "  </tbody>\n",
       "</table>\n",
       "</div>"
      ],
      "text/plain": [
       "     Channel_name                Channel_id\n",
       "0   Marciaylanube  UCWYUbW_Lw5EQC0WybxInObA\n",
       "1        TodoCode  UCz0EXCSvMwYKruljsZjCOzw\n",
       "2      PeladoNerd  UCrBzBOMcUVV8ryyAU_c6P5g\n",
       "3  Codigofacilito  UCLXRGxAzeaLDGaOphqapzmg\n",
       "4          Platzi  UC55-mxUj5Nj3niXFReG44OQ\n",
       "5          EDteam  UCP15FVAA2UL-QOcGhy7-ezA\n",
       "6       Soy Dalto  UCtoo4_P6ilCj7jwa4FmA5lQ\n",
       "7         midudev  UC8LeXCWOalN8SxlrPcG-PaQ\n",
       "8    freeCodeCamp  UC8butISFwT-Wl7EV0hUK0BQ\n",
       "9     Valen Werle  UCyurPWRyQdR3S0OgPIa8MPA"
      ]
     },
     "execution_count": 14,
     "metadata": {},
     "output_type": "execute_result"
    }
   ],
   "source": [
    "df_channels"
   ]
  },
  {
   "cell_type": "code",
   "execution_count": 15,
   "id": "20cb41c6",
   "metadata": {},
   "outputs": [
    {
     "data": {
      "text/plain": [
       "{'Created_at': '2025-04-05',\n",
       " 'Total_Views': 19978568,\n",
       " 'Suscribers': 212000,\n",
       " 'Video_count': 856}"
      ]
     },
     "execution_count": 15,
     "metadata": {},
     "output_type": "execute_result"
    }
   ],
   "source": [
    "get_stats(api_key,df_channels['Channel_id'][1])"
   ]
  },
  {
   "cell_type": "code",
   "execution_count": 16,
   "id": "ca60f987",
   "metadata": {},
   "outputs": [],
   "source": [
    "def channel_stats(df,api_key):\n",
    "    \n",
    "    date = []\n",
    "    views = []\n",
    "    suscriber = []\n",
    "    video_count = []\n",
    "    channel_name = []\n",
    "    \n",
    "    tiempo = [1,2.5,3,2]\n",
    "    \n",
    "    \n",
    "    for i in tqdm(range(len(df)),colour = 'green'):\n",
    "        \n",
    "        stats_temp = get_stats(api_key,df_channels['Channel_id'][i])\n",
    "        \n",
    "        date.append(stats_temp['Created_at'])\n",
    "        views.append(stats_temp['Total_Views'])\n",
    "        suscriber.append(stats_temp['Suscribers'])\n",
    "        video_count.append(stats_temp['Video_count'])\n",
    "        channel_name.append(df['Channel_name'][i])\n",
    "        \n",
    "        time.sleep(random.choice(tiempo))\n",
    "    \n",
    "    data = {\n",
    "        \n",
    "        'Channel_name':channel_name,\n",
    "        'Suscribers':suscriber,\n",
    "        'Video_Count':video_count,\n",
    "        'Total_Views':views,\n",
    "        'created_at':date,\n",
    "        \n",
    "    }\n",
    "    \n",
    "    df_channels_final = pd.DataFrame(data)\n",
    "    \n",
    "    return df_channels_final     "
   ]
  },
  {
   "cell_type": "code",
   "execution_count": 17,
   "id": "cc355470",
   "metadata": {},
   "outputs": [
    {
     "name": "stderr",
     "output_type": "stream",
     "text": [
      "  0%|\u001b[32m          \u001b[0m| 0/10 [00:00<?, ?it/s]"
     ]
    },
    {
     "name": "stderr",
     "output_type": "stream",
     "text": [
      "100%|\u001b[32m██████████\u001b[0m| 10/10 [00:20<00:00,  2.03s/it]\n"
     ]
    },
    {
     "data": {
      "text/html": [
       "<div>\n",
       "<style scoped>\n",
       "    .dataframe tbody tr th:only-of-type {\n",
       "        vertical-align: middle;\n",
       "    }\n",
       "\n",
       "    .dataframe tbody tr th {\n",
       "        vertical-align: top;\n",
       "    }\n",
       "\n",
       "    .dataframe thead th {\n",
       "        text-align: right;\n",
       "    }\n",
       "</style>\n",
       "<table border=\"1\" class=\"dataframe\">\n",
       "  <thead>\n",
       "    <tr style=\"text-align: right;\">\n",
       "      <th></th>\n",
       "      <th>Channel_name</th>\n",
       "      <th>Suscribers</th>\n",
       "      <th>Video_Count</th>\n",
       "      <th>Total_Views</th>\n",
       "      <th>created_at</th>\n",
       "    </tr>\n",
       "  </thead>\n",
       "  <tbody>\n",
       "    <tr>\n",
       "      <th>0</th>\n",
       "      <td>Marciaylanube</td>\n",
       "      <td>13800</td>\n",
       "      <td>171</td>\n",
       "      <td>454608</td>\n",
       "      <td>2025-04-05</td>\n",
       "    </tr>\n",
       "    <tr>\n",
       "      <th>1</th>\n",
       "      <td>TodoCode</td>\n",
       "      <td>212000</td>\n",
       "      <td>856</td>\n",
       "      <td>19978568</td>\n",
       "      <td>2025-04-05</td>\n",
       "    </tr>\n",
       "    <tr>\n",
       "      <th>2</th>\n",
       "      <td>PeladoNerd</td>\n",
       "      <td>179000</td>\n",
       "      <td>404</td>\n",
       "      <td>13310344</td>\n",
       "      <td>2025-04-05</td>\n",
       "    </tr>\n",
       "    <tr>\n",
       "      <th>3</th>\n",
       "      <td>Codigofacilito</td>\n",
       "      <td>730000</td>\n",
       "      <td>3393</td>\n",
       "      <td>100203063</td>\n",
       "      <td>2025-04-05</td>\n",
       "    </tr>\n",
       "    <tr>\n",
       "      <th>4</th>\n",
       "      <td>Platzi</td>\n",
       "      <td>1840000</td>\n",
       "      <td>2592</td>\n",
       "      <td>265246495</td>\n",
       "      <td>2025-04-05</td>\n",
       "    </tr>\n",
       "    <tr>\n",
       "      <th>5</th>\n",
       "      <td>EDteam</td>\n",
       "      <td>842000</td>\n",
       "      <td>938</td>\n",
       "      <td>67667301</td>\n",
       "      <td>2025-04-05</td>\n",
       "    </tr>\n",
       "    <tr>\n",
       "      <th>6</th>\n",
       "      <td>Soy Dalto</td>\n",
       "      <td>963000</td>\n",
       "      <td>200</td>\n",
       "      <td>54026319</td>\n",
       "      <td>2025-04-05</td>\n",
       "    </tr>\n",
       "    <tr>\n",
       "      <th>7</th>\n",
       "      <td>midudev</td>\n",
       "      <td>361000</td>\n",
       "      <td>623</td>\n",
       "      <td>33559253</td>\n",
       "      <td>2025-04-05</td>\n",
       "    </tr>\n",
       "    <tr>\n",
       "      <th>8</th>\n",
       "      <td>freeCodeCamp</td>\n",
       "      <td>10600000</td>\n",
       "      <td>1833</td>\n",
       "      <td>850421817</td>\n",
       "      <td>2025-04-05</td>\n",
       "    </tr>\n",
       "    <tr>\n",
       "      <th>9</th>\n",
       "      <td>Valen Werle</td>\n",
       "      <td>36000</td>\n",
       "      <td>146</td>\n",
       "      <td>5785622</td>\n",
       "      <td>2025-04-05</td>\n",
       "    </tr>\n",
       "  </tbody>\n",
       "</table>\n",
       "</div>"
      ],
      "text/plain": [
       "     Channel_name  Suscribers  Video_Count  Total_Views  created_at\n",
       "0   Marciaylanube       13800          171       454608  2025-04-05\n",
       "1        TodoCode      212000          856     19978568  2025-04-05\n",
       "2      PeladoNerd      179000          404     13310344  2025-04-05\n",
       "3  Codigofacilito      730000         3393    100203063  2025-04-05\n",
       "4          Platzi     1840000         2592    265246495  2025-04-05\n",
       "5          EDteam      842000          938     67667301  2025-04-05\n",
       "6       Soy Dalto      963000          200     54026319  2025-04-05\n",
       "7         midudev      361000          623     33559253  2025-04-05\n",
       "8    freeCodeCamp    10600000         1833    850421817  2025-04-05\n",
       "9     Valen Werle       36000          146      5785622  2025-04-05"
      ]
     },
     "execution_count": 17,
     "metadata": {},
     "output_type": "execute_result"
    }
   ],
   "source": [
    "df = channel_stats(df_channels,api_key)\n",
    "df"
   ]
  },
  {
   "cell_type": "code",
   "execution_count": 18,
   "id": "55af5aa5",
   "metadata": {},
   "outputs": [
    {
     "name": "stdout",
     "output_type": "stream",
     "text": [
      "Subscribers: 730000\n",
      "Subscribers: 730k\n"
     ]
    }
   ],
   "source": [
    "subs = int(df[df['Channel_name'] == 'Codigofacilito']['Suscribers'].values[0])\n",
    "print(f\"Subscribers: {subs}\")\n",
    "print(f\"Subscribers: {millify(subs)}\")"
   ]
  }
 ],
 "metadata": {
  "kernelspec": {
   "display_name": "Python 3",
   "language": "python",
   "name": "python3"
  },
  "language_info": {
   "codemirror_mode": {
    "name": "ipython",
    "version": 3
   },
   "file_extension": ".py",
   "mimetype": "text/x-python",
   "name": "python",
   "nbconvert_exporter": "python",
   "pygments_lexer": "ipython3",
   "version": "3.11.3"
  }
 },
 "nbformat": 4,
 "nbformat_minor": 5
}
